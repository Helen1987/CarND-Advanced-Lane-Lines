{
 "cells": [
  {
   "cell_type": "code",
   "execution_count": null,
   "metadata": {
    "collapsed": true
   },
   "outputs": [],
   "source": [
    "import os\n",
    "import cv2\n",
    "import pickle\n",
    "import matplotlib.image as mpimg\n",
    "\n",
    "project_dir = os.path.dirname(os.getcwd())\n",
    "test_folder_path = os.path.join(project_dir, 'test_images')\n",
    "output_folder_path = os.path.join(project_dir, 'output_images')\n",
    "\n",
    "pickle_path = os.path.join(project_dir, 'dist_pickle.p')\n",
    "dist_pickle = pickle.load(open(pickle_path, \"rb\"))\n",
    "mtx = dist_pickle[\"mtx\"]\n",
    "dist = dist_pickle[\"dist\"]\n",
    "\n",
    "def undistort_image(image_name):\n",
    "    img = mpimg.imread(image_name)\n",
    "    return img, cv2.undistort(img, mtx, dist, None, mtx)"
   ]
  },
  {
   "cell_type": "code",
   "execution_count": null,
   "metadata": {
    "collapsed": false
   },
   "outputs": [],
   "source": [
    "import numpy as np\n",
    "\n",
    "def get_source_destination_points(width, height):\n",
    "    top_offset = 100\n",
    "    bottom_offset = 10\n",
    "    top_line_offset = 75\n",
    "    bottom_line_offset = 115\n",
    "    src = np.array([\n",
    "            (bottom_line_offset,height-bottom_offset), (width/2 - top_line_offset, height/2+top_offset), \n",
    "            (width/2 + top_line_offset, height/2+top_offset), (width-bottom_line_offset,height-bottom_offset)], dtype=np.int32)\n",
    "\n",
    "    offset = 100\n",
    "    new_height = height*10\n",
    "    dst = np.float32([[offset, new_height], [offset, 0], [width-offset, 0], [width-offset, new_height]])\n",
    "    return src, dst\n",
    "\n",
    " \n",
    "src, dst = get_source_destination_points(1280, 720)\n",
    "print('Source', src)\n",
    "print('Destination', dst)\n",
    "    \n",
    "def get_region_of_interest(img, show_roi=True):\n",
    "    new_image = img.copy()\n",
    "    height = new_image.shape[0]\n",
    "    width = new_image.shape[1]\n",
    "    if show_roi == True:\n",
    "        cv2.polylines(new_image, [src], True, (255, 0, 0), thickness=2)\n",
    "    \n",
    "    M = cv2.getPerspectiveTransform(src.astype(np.float32), dst)\n",
    "    warped = cv2.warpPerspective(new_image, M, (width, 10*height))\n",
    "    \n",
    "    return new_image, warped"
   ]
  },
  {
   "cell_type": "code",
   "execution_count": null,
   "metadata": {
    "collapsed": false,
    "scrolled": false
   },
   "outputs": [],
   "source": [
    "import os\n",
    "import glob\n",
    "import matplotlib.pyplot as plt\n",
    "%matplotlib inline\n",
    "\n",
    "\n",
    "image_pattern = os.path.join(test_folder_path, '*.jpg')\n",
    "images = glob.glob(image_pattern)\n",
    "\n",
    "def test_region_of_interest(img_name):\n",
    "    image_path = os.path.join(test_folder_path, img_name)\n",
    "    image, undistorted = undistort_image(image_path)\n",
    "    \n",
    "    roi_mage, warped_image = get_region_of_interest(undistorted)\n",
    "    \n",
    "    output_image_path = os.path.join(output_folder_path, 'undistorted_'+img_name)\n",
    "    mpimg.imsave(output_image_path, undistorted)\n",
    "    output_image_path1 = os.path.join(output_folder_path, 'roi_'+img_name)\n",
    "    mpimg.imsave(output_image_path1, roi_mage)\n",
    "    output_image_path2 = os.path.join(output_folder_path, 'warped_'+img_name)\n",
    "    mpimg.imsave(output_image_path2, warped_image)\n",
    "\n",
    "    \n",
    "    f, (ax1, ax2, ax3) = plt.subplots(1, 3, figsize=(48, 9))\n",
    "    f.tight_layout()\n",
    "    ax1.imshow(image)\n",
    "    ax1.set_title('Original Image', fontsize=50)\n",
    "    ax2.imshow(undistorted)\n",
    "    ax2.set_title('Undistorted Image', fontsize=50)\n",
    "    ax3.imshow(roi_mage)\n",
    "    ax3.set_title('Region of Interest', fontsize=50)\n",
    "    \n",
    "    plt.subplots_adjust(left=0., right=1, top=0.9, bottom=0.)\n",
    "    \n",
    "    plt.figure();\n",
    "    plt.imshow(warped_image)\n",
    "    plt.title('Bird-view Image', fontsize=10)\n",
    "    \n",
    "    \n",
    "for name in images:\n",
    "    test_region_of_interest(os.path.basename(name))"
   ]
  },
  {
   "cell_type": "code",
   "execution_count": null,
   "metadata": {
    "collapsed": true
   },
   "outputs": [],
   "source": []
  }
 ],
 "metadata": {
  "anaconda-cloud": {},
  "kernelspec": {
   "display_name": "Python [conda env:IntroToTensorFlow]",
   "language": "python",
   "name": "conda-env-IntroToTensorFlow-py"
  },
  "language_info": {
   "codemirror_mode": {
    "name": "ipython",
    "version": 3
   },
   "file_extension": ".py",
   "mimetype": "text/x-python",
   "name": "python",
   "nbconvert_exporter": "python",
   "pygments_lexer": "ipython3",
   "version": "3.5.2"
  }
 },
 "nbformat": 4,
 "nbformat_minor": 1
}
